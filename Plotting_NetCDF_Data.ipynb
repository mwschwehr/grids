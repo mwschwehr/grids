{
 "cells": [
  {
   "cell_type": "code",
   "execution_count": 4,
   "metadata": {
    "collapsed": false
   },
   "outputs": [],
   "source": [
    "from netCDF4 import Dataset\n",
    "import numpy as np"
   ]
  },
  {
   "cell_type": "code",
   "execution_count": 5,
   "metadata": {
    "collapsed": false
   },
   "outputs": [],
   "source": [
    "multi_beam = '/home/mschwehr/TestData/ZTopo.grd'\n"
   ]
  },
  {
   "cell_type": "code",
   "execution_count": 39,
   "metadata": {
    "collapsed": false
   },
   "outputs": [],
   "source": [
    "fh = Dataset(multi_beam, mode='r')"
   ]
  },
  {
   "cell_type": "code",
   "execution_count": 40,
   "metadata": {
    "collapsed": false
   },
   "outputs": [
    {
     "data": {
      "text/plain": [
       "OrderedDict([(u'x', <type 'netCDF4._netCDF4.Variable'>\n",
       "              float64 x(x)\n",
       "                  long_name: Longitude\n",
       "                  actual_range: [-122.09461817 -122.09289585]\n",
       "              unlimited dimensions: \n",
       "              current shape = (3079,)\n",
       "              filling on, default _FillValue of 9.96920996839e+36 used),\n",
       "             (u'y', <type 'netCDF4._netCDF4.Variable'>\n",
       "              float64 y(y)\n",
       "                  long_name: Latitude\n",
       "                  actual_range: [ 36.70097857  36.70225751]\n",
       "              unlimited dimensions: \n",
       "              current shape = (2839,)\n",
       "              filling on, default _FillValue of 9.96920996839e+36 used),\n",
       "             (u'z', <type 'netCDF4._netCDF4.Variable'>\n",
       "              float32 z(y, x)\n",
       "                  long_name: Topography (m)\n",
       "                  _FillValue: nan\n",
       "                  actual_range: [-1841.56799316 -1836.09680176]\n",
       "              unlimited dimensions: \n",
       "              current shape = (2839, 3079)\n",
       "              filling on)])"
      ]
     },
     "execution_count": 40,
     "metadata": {},
     "output_type": "execute_result"
    }
   ],
   "source": [
    "fh.variables\n"
   ]
  },
  {
   "cell_type": "code",
   "execution_count": 78,
   "metadata": {
    "collapsed": false
   },
   "outputs": [
    {
     "ename": "TypeError",
     "evalue": "only integer arrays with one element can be converted to an index",
     "output_type": "error",
     "traceback": [
      "\u001b[0;31m---------------------------------------------------------------------------\u001b[0m",
      "\u001b[0;31mTypeError\u001b[0m                                 Traceback (most recent call last)",
      "\u001b[0;32m<ipython-input-78-579ece6c7590>\u001b[0m in \u001b[0;36m<module>\u001b[0;34m()\u001b[0m\n\u001b[1;32m      1\u001b[0m \u001b[0mlons\u001b[0m \u001b[0;34m=\u001b[0m \u001b[0mfh\u001b[0m\u001b[0;34m.\u001b[0m\u001b[0mvariables\u001b[0m\u001b[0;34m[\u001b[0m\u001b[0;34m'x'\u001b[0m\u001b[0;34m]\u001b[0m\u001b[0;34m[\u001b[0m\u001b[0;34m:\u001b[0m\u001b[0;34m]\u001b[0m\u001b[0;34m\u001b[0m\u001b[0m\n\u001b[1;32m      2\u001b[0m \u001b[0mlats\u001b[0m \u001b[0;34m=\u001b[0m \u001b[0mfh\u001b[0m\u001b[0;34m.\u001b[0m\u001b[0mvariables\u001b[0m\u001b[0;34m[\u001b[0m\u001b[0;34m'y'\u001b[0m\u001b[0;34m]\u001b[0m\u001b[0;34m[\u001b[0m\u001b[0;34m:\u001b[0m\u001b[0;34m]\u001b[0m\u001b[0;34m\u001b[0m\u001b[0m\n\u001b[0;32m----> 3\u001b[0;31m \u001b[0mdepth\u001b[0m \u001b[0;34m=\u001b[0m \u001b[0mfh\u001b[0m\u001b[0;34m.\u001b[0m\u001b[0mvariables\u001b[0m\u001b[0;34m[\u001b[0m\u001b[0;34m'z'\u001b[0m\u001b[0;34m]\u001b[0m\u001b[0;34m[\u001b[0m\u001b[0mlons\u001b[0m\u001b[0;34m:\u001b[0m\u001b[0mlats\u001b[0m\u001b[0;34m]\u001b[0m\u001b[0;34m\u001b[0m\u001b[0m\n\u001b[0m\u001b[1;32m      4\u001b[0m \u001b[0;34m\u001b[0m\u001b[0m\n",
      "\u001b[0;32mnetCDF4/_netCDF4.pyx\u001b[0m in \u001b[0;36mnetCDF4._netCDF4.Variable.__getitem__ (netCDF4/_netCDF4.c:36304)\u001b[0;34m()\u001b[0m\n",
      "\u001b[0;32m/usr/lib/python2.7/dist-packages/netCDF4/utils.pyc\u001b[0m in \u001b[0;36m_StartCountStride\u001b[0;34m(elem, shape, dimensions, grp, datashape, put)\u001b[0m\n\u001b[1;32m    349\u001b[0m                     \u001b[0mlength\u001b[0m \u001b[0;34m=\u001b[0m \u001b[0mshape\u001b[0m\u001b[0;34m[\u001b[0m\u001b[0mi\u001b[0m\u001b[0;34m]\u001b[0m\u001b[0;34m\u001b[0m\u001b[0m\n\u001b[1;32m    350\u001b[0m \u001b[0;34m\u001b[0m\u001b[0m\n\u001b[0;32m--> 351\u001b[0;31m             \u001b[0mbeg\u001b[0m\u001b[0;34m,\u001b[0m \u001b[0mend\u001b[0m\u001b[0;34m,\u001b[0m \u001b[0minc\u001b[0m \u001b[0;34m=\u001b[0m \u001b[0me\u001b[0m\u001b[0;34m.\u001b[0m\u001b[0mindices\u001b[0m\u001b[0;34m(\u001b[0m\u001b[0mlength\u001b[0m\u001b[0;34m)\u001b[0m\u001b[0;34m\u001b[0m\u001b[0m\n\u001b[0m\u001b[1;32m    352\u001b[0m             \u001b[0mn\u001b[0m \u001b[0;34m=\u001b[0m \u001b[0mlen\u001b[0m\u001b[0;34m(\u001b[0m\u001b[0mrange\u001b[0m\u001b[0;34m(\u001b[0m\u001b[0mbeg\u001b[0m\u001b[0;34m,\u001b[0m\u001b[0mend\u001b[0m\u001b[0;34m,\u001b[0m\u001b[0minc\u001b[0m\u001b[0;34m)\u001b[0m\u001b[0;34m)\u001b[0m\u001b[0;34m\u001b[0m\u001b[0m\n\u001b[1;32m    353\u001b[0m \u001b[0;34m\u001b[0m\u001b[0m\n",
      "\u001b[0;31mTypeError\u001b[0m: only integer arrays with one element can be converted to an index"
     ]
    }
   ],
   "source": [
    "lons = fh.variables['x'][:]\n",
    "lats = fh.variables['y'][:]\n",
    "depth = fh.variables['z'][:]\n",
    "\n"
   ]
  },
  {
   "cell_type": "code",
   "execution_count": 44,
   "metadata": {
    "collapsed": false
   },
   "outputs": [
    {
     "data": {
      "text/plain": [
       "masked_array(data =\n",
       " [[-- -- -- ..., -- -- --]\n",
       " [-- -- -- ..., -- -- --]\n",
       " [-- -- -- ..., -- -- --]\n",
       " ..., \n",
       " [-- -- -- ..., -- -- --]\n",
       " [-- -- -- ..., -- -- --]\n",
       " [-- -- -- ..., -- -- --]],\n",
       "             mask =\n",
       " [[ True  True  True ...,  True  True  True]\n",
       " [ True  True  True ...,  True  True  True]\n",
       " [ True  True  True ...,  True  True  True]\n",
       " ..., \n",
       " [ True  True  True ...,  True  True  True]\n",
       " [ True  True  True ...,  True  True  True]\n",
       " [ True  True  True ...,  True  True  True]],\n",
       "       fill_value = nan)"
      ]
     },
     "execution_count": 44,
     "metadata": {},
     "output_type": "execute_result"
    }
   ],
   "source": [
    "depth"
   ]
  },
  {
   "cell_type": "code",
   "execution_count": 46,
   "metadata": {
    "collapsed": false
   },
   "outputs": [],
   "source": [
    "fh.close()\n",
    "\n"
   ]
  },
  {
   "cell_type": "code",
   "execution_count": 19,
   "metadata": {
    "collapsed": false
   },
   "outputs": [],
   "source": [
    "import matplotlib.pyplot as plt\n",
    "from mpl_toolkits.basemap import Basemap"
   ]
  },
  {
   "cell_type": "code",
   "execution_count": 20,
   "metadata": {
    "collapsed": true
   },
   "outputs": [],
   "source": [
    "lon_0 = lons.mean()\n",
    "lat_0 = lats.mean()\n"
   ]
  },
  {
   "cell_type": "code",
   "execution_count": 21,
   "metadata": {
    "collapsed": false
   },
   "outputs": [
    {
     "data": {
      "text/plain": [
       "-122.093757009"
      ]
     },
     "execution_count": 21,
     "metadata": {},
     "output_type": "execute_result"
    }
   ],
   "source": [
    "lon_0\n"
   ]
  },
  {
   "cell_type": "code",
   "execution_count": 26,
   "metadata": {
    "collapsed": false
   },
   "outputs": [
    {
     "name": "stdout",
     "output_type": "stream",
     "text": [
      "warning: width and height keywords ignored for Mercator projection"
     ]
    }
   ],
   "source": [
    "m = Basemap(width=3079,height=2839,\n",
    "            resolution='l',projection='merc',lat_0=lat_0,lon_0=lon_0)"
   ]
  },
  {
   "cell_type": "code",
   "execution_count": 27,
   "metadata": {
    "collapsed": true
   },
   "outputs": [],
   "source": [
    "lon, lat = np.meshgrid(lons, lats)\n",
    "xi, yi = m(lon, lat)"
   ]
  },
  {
   "cell_type": "code",
   "execution_count": 34,
   "metadata": {
    "collapsed": false
   },
   "outputs": [
    {
     "data": {
      "text/plain": [
       "array([[ 36.70097857,  36.70097857,  36.70097857, ...,  36.70097857,\n",
       "         36.70097857,  36.70097857],\n",
       "       [ 36.70097902,  36.70097902,  36.70097902, ...,  36.70097902,\n",
       "         36.70097902,  36.70097902],\n",
       "       [ 36.70097947,  36.70097947,  36.70097947, ...,  36.70097947,\n",
       "         36.70097947,  36.70097947],\n",
       "       ..., \n",
       "       [ 36.70225661,  36.70225661,  36.70225661, ...,  36.70225661,\n",
       "         36.70225661,  36.70225661],\n",
       "       [ 36.70225706,  36.70225706,  36.70225706, ...,  36.70225706,\n",
       "         36.70225706,  36.70225706],\n",
       "       [ 36.70225751,  36.70225751,  36.70225751, ...,  36.70225751,\n",
       "         36.70225751,  36.70225751]])"
      ]
     },
     "execution_count": 34,
     "metadata": {},
     "output_type": "execute_result"
    }
   ],
   "source": [
    "lon\n",
    "lat"
   ]
  },
  {
   "cell_type": "code",
   "execution_count": 63,
   "metadata": {
    "collapsed": false
   },
   "outputs": [
    {
     "data": {
      "text/plain": [
       "masked_array(data =\n",
       " [[-- -- -- ..., -- -- --]\n",
       " [-- -- -- ..., -- -- --]\n",
       " [-- -- -- ..., -- -- --]\n",
       " ..., \n",
       " [-- -- -- ..., -- -- --]\n",
       " [-- -- -- ..., -- -- --]\n",
       " [-- -- -- ..., -- -- --]],\n",
       "             mask =\n",
       " [[ True  True  True ...,  True  True  True]\n",
       " [ True  True  True ...,  True  True  True]\n",
       " [ True  True  True ...,  True  True  True]\n",
       " ..., \n",
       " [ True  True  True ...,  True  True  True]\n",
       " [ True  True  True ...,  True  True  True]\n",
       " [ True  True  True ...,  True  True  True]],\n",
       "       fill_value = nan)"
      ]
     },
     "execution_count": 63,
     "metadata": {},
     "output_type": "execute_result"
    }
   ],
   "source": [
    "depth = -1*depth\n",
    "depth"
   ]
  },
  {
   "cell_type": "code",
   "execution_count": 35,
   "metadata": {
    "collapsed": false
   },
   "outputs": [
    {
     "data": {
      "image/png": "[encoded data removed]",
      "text/plain": [
       "<matplotlib.figure.Figure at 0x7f4695759fd0>"
      ]
     },
     "metadata": {},
     "output_type": "display_data"
    }
   ],
   "source": [
    "cs = m.pcolor(xi,yi,np.squeeze(depth))\n",
    "plt.show()"
   ]
  },
  {
   "cell_type": "code",
   "execution_count": 29,
   "metadata": {
    "collapsed": false
   },
   "outputs": [
    {
     "data": {
      "text/plain": [
       "{-300.0: ([<matplotlib.lines.Line2D at 0x7f45cdea13d0>],\n",
       "  [<matplotlib.text.Text at 0x7f46624a69d0>]),\n",
       " -290.0: ([<matplotlib.lines.Line2D at 0x7f466257dc50>],\n",
       "  [<matplotlib.text.Text at 0x7f46624a6e90>]),\n",
       " -280.0: ([<matplotlib.lines.Line2D at 0x7f46625892d0>],\n",
       "  [<matplotlib.text.Text at 0x7f46624b3310>]),\n",
       " -270.0: ([<matplotlib.lines.Line2D at 0x7f4662589910>],\n",
       "  [<matplotlib.text.Text at 0x7f46624b3750>]),\n",
       " -260.0: ([<matplotlib.lines.Line2D at 0x7f4662589f50>],\n",
       "  [<matplotlib.text.Text at 0x7f46624b3b90>]),\n",
       " -250.0: ([<matplotlib.lines.Line2D at 0x7f46625965d0>],\n",
       "  [<matplotlib.text.Text at 0x7f46624b3fd0>]),\n",
       " -240.0: ([<matplotlib.lines.Line2D at 0x7f4662596c10>],\n",
       "  [<matplotlib.text.Text at 0x7f46624c0450>]),\n",
       " -230.0: ([<matplotlib.lines.Line2D at 0x7f4662522290>],\n",
       "  [<matplotlib.text.Text at 0x7f46624c0890>]),\n",
       " -220.0: ([<matplotlib.lines.Line2D at 0x7f46625228d0>],\n",
       "  [<matplotlib.text.Text at 0x7f46624c0cd0>]),\n",
       " -210.0: ([<matplotlib.lines.Line2D at 0x7f4662522f10>],\n",
       "  [<matplotlib.text.Text at 0x7f46624cd150>]),\n",
       " -200.0: ([<matplotlib.lines.Line2D at 0x7f466252e590>],\n",
       "  [<matplotlib.text.Text at 0x7f46624cd590>]),\n",
       " -190.0: ([<matplotlib.lines.Line2D at 0x7f466252ebd0>],\n",
       "  [<matplotlib.text.Text at 0x7f46624cd9d0>]),\n",
       " -180.0: ([<matplotlib.lines.Line2D at 0x7f466253b250>],\n",
       "  [<matplotlib.text.Text at 0x7f46624cde10>]),\n",
       " -170.0: ([<matplotlib.lines.Line2D at 0x7f466253b890>],\n",
       "  [<matplotlib.text.Text at 0x7f46624d9290>]),\n",
       " -160.0: ([<matplotlib.lines.Line2D at 0x7f466253bed0>],\n",
       "  [<matplotlib.text.Text at 0x7f46624d96d0>]),\n",
       " -150.0: ([<matplotlib.lines.Line2D at 0x7f4662547550>],\n",
       "  [<matplotlib.text.Text at 0x7f46624d9b10>]),\n",
       " -140.0: ([<matplotlib.lines.Line2D at 0x7f4662547b90>],\n",
       "  [<matplotlib.text.Text at 0x7f46624d9f50>]),\n",
       " -130.0: ([<matplotlib.lines.Line2D at 0x7f4662551210>],\n",
       "  [<matplotlib.text.Text at 0x7f46624653d0>]),\n",
       " -120.0: ([<matplotlib.lines.Line2D at 0x7f4662551850>],\n",
       "  [<matplotlib.text.Text at 0x7f4662465810>]),\n",
       " -110.0: ([<matplotlib.lines.Line2D at 0x7f4662551e90>],\n",
       "  [<matplotlib.text.Text at 0x7f4662465c50>]),\n",
       " -100.0: ([<matplotlib.lines.Line2D at 0x7f466255e510>],\n",
       "  [<matplotlib.text.Text at 0x7f46624720d0>]),\n",
       " -90.0: ([<matplotlib.lines.Line2D at 0x7f466255eb50>],\n",
       "  [<matplotlib.text.Text at 0x7f4662472510>]),\n",
       " -80.0: ([<matplotlib.lines.Line2D at 0x7f46624ec1d0>],\n",
       "  [<matplotlib.text.Text at 0x7f4662472950>]),\n",
       " -70.0: ([<matplotlib.lines.Line2D at 0x7f46624ec810>],\n",
       "  [<matplotlib.text.Text at 0x7f4662472d90>]),\n",
       " -60.0: ([<matplotlib.lines.Line2D at 0x7f46624ece50>],\n",
       "  [<matplotlib.text.Text at 0x7f466247f210>]),\n",
       " -50.0: ([<matplotlib.lines.Line2D at 0x7f46624f84d0>],\n",
       "  [<matplotlib.text.Text at 0x7f466247f650>]),\n",
       " -40.0: ([<matplotlib.lines.Line2D at 0x7f46624f8b10>],\n",
       "  [<matplotlib.text.Text at 0x7f466247fa90>]),\n",
       " -30.0: ([<matplotlib.lines.Line2D at 0x7f4662503190>],\n",
       "  [<matplotlib.text.Text at 0x7f466247fed0>]),\n",
       " -20.0: ([<matplotlib.lines.Line2D at 0x7f46625037d0>],\n",
       "  [<matplotlib.text.Text at 0x7f4662489350>]),\n",
       " -10.0: ([<matplotlib.lines.Line2D at 0x7f4662503e10>],\n",
       "  [<matplotlib.text.Text at 0x7f4662489790>]),\n",
       " 0.0: ([<matplotlib.lines.Line2D at 0x7f466250f490>],\n",
       "  [<matplotlib.text.Text at 0x7f4662489bd0>]),\n",
       " 10.0: ([<matplotlib.lines.Line2D at 0x7f466250fad0>],\n",
       "  [<matplotlib.text.Text at 0x7f4662498050>]),\n",
       " 20.0: ([<matplotlib.lines.Line2D at 0x7f466251b150>],\n",
       "  [<matplotlib.text.Text at 0x7f4662498490>]),\n",
       " 30.0: ([<matplotlib.lines.Line2D at 0x7f466251b790>],\n",
       "  [<matplotlib.text.Text at 0x7f46624988d0>]),\n",
       " 40.0: ([<matplotlib.lines.Line2D at 0x7f466251bdd0>],\n",
       "  [<matplotlib.text.Text at 0x7f4662498d10>]),\n",
       " 50.0: ([<matplotlib.lines.Line2D at 0x7f46624a6450>],\n",
       "  [<matplotlib.text.Text at 0x7f4662424190>])}"
      ]
     },
     "execution_count": 29,
     "metadata": {},
     "output_type": "execute_result"
    }
   ],
   "source": [
    "m.drawparallels(np.arange(-80., 81., 10.), labels=[1,0,0,0], fontsize=10)\n",
    "m.drawmeridians(np.arange(-180., 181., 10.), labels=[0,0,0,1], fontsize=10)"
   ]
  },
  {
   "cell_type": "code",
   "execution_count": 30,
   "metadata": {
    "collapsed": false
   },
   "outputs": [
    {
     "data": {
      "text/plain": [
       "<matplotlib.collections.LineCollection at 0x7f46623e0c90>"
      ]
     },
     "execution_count": 30,
     "metadata": {},
     "output_type": "execute_result"
    }
   ],
   "source": [
    "m.drawcoastlines()\n",
    "m.drawstates()\n",
    "m.drawcountries()"
   ]
  },
  {
   "cell_type": "code",
   "execution_count": 31,
   "metadata": {
    "collapsed": true
   },
   "outputs": [],
   "source": [
    "cbar = m.colorbar(cs, location='bottom', pad=\"10%\")\n",
    "cbar.set_label('meters')"
   ]
  },
  {
   "cell_type": "code",
   "execution_count": 32,
   "metadata": {
    "collapsed": false
   },
   "outputs": [
    {
     "data": {
      "image/png": "[encoded data removed]",
      "text/plain": [
       "<matplotlib.figure.Figure at 0x7f466927ffd0>"
      ]
     },
     "metadata": {},
     "output_type": "display_data"
    }
   ],
   "source": [
    "plt.title('20161027 Multibeam')\n",
    "\n",
    "plt.show()"
   ]
  },
  {
   "cell_type": "code",
   "execution_count": 47,
   "metadata": {
    "collapsed": false
   },
   "outputs": [],
   "source": [
    "ncfile = Dataset(multi_beam, 'r')"
   ]
  },
  {
   "cell_type": "code",
   "execution_count": 51,
   "metadata": {
    "collapsed": false
   },
   "outputs": [
    {
     "name": "stdout",
     "output_type": "stream",
     "text": [
      "Attributes:\n",
      "[u'Conventions', u'title', u'history', u'description', u'GMT_version']\n",
      "\n",
      "Variables:\n",
      "OrderedDict([(u'x', <type 'netCDF4._netCDF4.Variable'>\n",
      "float64 x(x)\n",
      "    long_name: Longitude\n",
      "    actual_range: [-122.09461817 -122.09289585]\n",
      "unlimited dimensions: \n",
      "current shape = (3079,)\n",
      "filling on, default _FillValue of 9.96920996839e+36 used\n",
      "), (u'y', <type 'netCDF4._netCDF4.Variable'>\n",
      "float64 y(y)\n",
      "    long_name: Latitude\n",
      "    actual_range: [ 36.70097857  36.70225751]\n",
      "unlimited dimensions: \n",
      "current shape = (2839,)\n",
      "filling on, default _FillValue of 9.96920996839e+36 used\n",
      "), (u'z', <type 'netCDF4._netCDF4.Variable'>\n",
      "float32 z(y, x)\n",
      "    long_name: Topography (m)\n",
      "    _FillValue: nan\n",
      "    actual_range: [-1841.56799316 -1836.09680176]\n",
      "unlimited dimensions: \n",
      "current shape = (2839, 3079)\n",
      "filling on)])\n"
     ]
    }
   ],
   "source": [
    "print(\"Attributes:\")\n",
    "print(ncfile.ncattrs())\n",
    "print(\"\\nVariables:\")\n",
    "print(ncfile.variables)"
   ]
  },
  {
   "cell_type": "code",
   "execution_count": 52,
   "metadata": {
    "collapsed": false
   },
   "outputs": [],
   "source": [
    "%matplotlib inline\n"
   ]
  },
  {
   "cell_type": "code",
   "execution_count": 56,
   "metadata": {
    "collapsed": false
   },
   "outputs": [],
   "source": [
    "x = ncfile.variables['x']\n",
    "y = ncfile.variables['y']"
   ]
  },
  {
   "cell_type": "code",
   "execution_count": 59,
   "metadata": {
    "collapsed": false
   },
   "outputs": [],
   "source": [
    "lon, lat = np.meshgrid(lons, lats)\n",
    "xi, yi = m(lon, lat)"
   ]
  },
  {
   "cell_type": "code",
   "execution_count": 71,
   "metadata": {
    "collapsed": false
   },
   "outputs": [
    {
     "data": {
      "image/png": "[encoded data removed]",
      "text/plain": [
       "<matplotlib.figure.Figure at 0x7f455fabe890>"
      ]
     },
     "metadata": {},
     "output_type": "display_data"
    }
   ],
   "source": [
    "cs = m.contourf(xi,yi,depth)"
   ]
  },
  {
   "cell_type": "code",
   "execution_count": 72,
   "metadata": {
    "collapsed": false
   },
   "outputs": [
    {
     "data": {
      "text/plain": [
       "masked_array(data =\n",
       " [[-- -- -- ..., -- -- --]\n",
       " [-- -- -- ..., -- -- --]\n",
       " [-- -- -- ..., -- -- --]\n",
       " ..., \n",
       " [-- -- -- ..., -- -- --]\n",
       " [-- -- -- ..., -- -- --]\n",
       " [-- -- -- ..., -- -- --]],\n",
       "             mask =\n",
       " [[ True  True  True ...,  True  True  True]\n",
       " [ True  True  True ...,  True  True  True]\n",
       " [ True  True  True ...,  True  True  True]\n",
       " ..., \n",
       " [ True  True  True ...,  True  True  True]\n",
       " [ True  True  True ...,  True  True  True]\n",
       " [ True  True  True ...,  True  True  True]],\n",
       "       fill_value = nan)"
      ]
     },
     "execution_count": 72,
     "metadata": {},
     "output_type": "execute_result"
    }
   ],
   "source": [
    "depth"
   ]
  },
  {
   "cell_type": "code",
   "execution_count": 68,
   "metadata": {
    "collapsed": false
   },
   "outputs": [
    {
     "data": {
      "text/plain": [
       "(3079,)"
      ]
     },
     "execution_count": 68,
     "metadata": {},
     "output_type": "execute_result"
    }
   ],
   "source": [
    "fh.variables['x'].shape"
   ]
  },
  {
   "cell_type": "code",
   "execution_count": 69,
   "metadata": {
    "collapsed": false
   },
   "outputs": [
    {
     "data": {
      "text/plain": [
       "(2839,)"
      ]
     },
     "execution_count": 69,
     "metadata": {},
     "output_type": "execute_result"
    }
   ],
   "source": [
    "fh.variables['y'].shape\n"
   ]
  },
  {
   "cell_type": "code",
   "execution_count": 70,
   "metadata": {
    "collapsed": false
   },
   "outputs": [
    {
     "data": {
      "text/plain": [
       "(2839, 3079)"
      ]
     },
     "execution_count": 70,
     "metadata": {},
     "output_type": "execute_result"
    }
   ],
   "source": [
    "fh.variables['z'].shape"
   ]
  },
  {
   "cell_type": "code",
   "execution_count": 73,
   "metadata": {
    "collapsed": false
   },
   "outputs": [
    {
     "name": "stdout",
     "output_type": "stream",
     "text": [
      "NETCDF4\n"
     ]
    }
   ],
   "source": [
    "print fh.data_model"
   ]
  },
  {
   "cell_type": "code",
   "execution_count": 74,
   "metadata": {
    "collapsed": false
   },
   "outputs": [
    {
     "name": "stdout",
     "output_type": "stream",
     "text": [
      "2839\n"
     ]
    }
   ],
   "source": [
    "print len(lon)"
   ]
  },
  {
   "cell_type": "code",
   "execution_count": 75,
   "metadata": {
    "collapsed": false
   },
   "outputs": [
    {
     "name": "stdout",
     "output_type": "stream",
     "text": [
      "2839\n"
     ]
    }
   ],
   "source": [
    "print len(depth)"
   ]
  },
  {
   "cell_type": "code",
   "execution_count": 76,
   "metadata": {
    "collapsed": false
   },
   "outputs": [
    {
     "name": "stdout",
     "output_type": "stream",
     "text": [
      "[[-- -- -- ..., -- -- --]\n",
      " [-- -- -- ..., -- -- --]\n",
      " [-- -- -- ..., -- -- --]\n",
      " ..., \n",
      " [-- -- -- ..., -- -- --]\n",
      " [-- -- -- ..., -- -- --]\n",
      " [-- -- -- ..., -- -- --]]\n"
     ]
    }
   ],
   "source": [
    "print depth\n"
   ]
  },
  {
   "cell_type": "code",
   "execution_count": 77,
   "metadata": {
    "collapsed": false
   },
   "outputs": [
    {
     "ename": "AttributeError",
     "evalue": "NetCDF: Attribute not found",
     "output_type": "error",
     "traceback": [
      "\u001b[0;31m---------------------------------------------------------------------------\u001b[0m",
      "\u001b[0;31mAttributeError\u001b[0m                            Traceback (most recent call last)",
      "\u001b[0;32m<ipython-input-77-249e390b9315>\u001b[0m in \u001b[0;36m<module>\u001b[0;34m()\u001b[0m\n\u001b[0;32m----> 1\u001b[0;31m \u001b[0;32mprint\u001b[0m \u001b[0mfh\u001b[0m\u001b[0;34m.\u001b[0m\u001b[0mz\u001b[0m\u001b[0;34m\u001b[0m\u001b[0m\n\u001b[0m",
      "\u001b[0;32mnetCDF4/_netCDF4.pyx\u001b[0m in \u001b[0;36mnetCDF4._netCDF4.Dataset.__getattr__ (netCDF4/_netCDF4.c:18895)\u001b[0;34m()\u001b[0m\n",
      "\u001b[0;32mnetCDF4/_netCDF4.pyx\u001b[0m in \u001b[0;36mnetCDF4._netCDF4.Dataset.getncattr (netCDF4/_netCDF4.c:17917)\u001b[0;34m()\u001b[0m\n",
      "\u001b[0;32mnetCDF4/_netCDF4.pyx\u001b[0m in \u001b[0;36mnetCDF4._netCDF4._get_att (netCDF4/_netCDF4.c:4084)\u001b[0;34m()\u001b[0m\n",
      "\u001b[0;31mAttributeError\u001b[0m: NetCDF: Attribute not found"
     ]
    }
   ],
   "source": [
    "print fh.z\n"
   ]
  },
  {
   "cell_type": "code",
   "execution_count": null,
   "metadata": {
    "collapsed": true
   },
   "outputs": [],
   "source": []
  }
 ],
 "metadata": {
  "kernelspec": {
   "display_name": "Python 2",
   "language": "python",
   "name": "python2"
  },
  "language_info": {
   "codemirror_mode": {
    "name": "ipython",
    "version": 2
   },
   "file_extension": ".py",
   "mimetype": "text/x-python",
   "name": "python",
   "nbconvert_exporter": "python",
   "pygments_lexer": "ipython2",
   "version": "2.7.12"
  }
 },
 "nbformat": 4,
 "nbformat_minor": 1
}
